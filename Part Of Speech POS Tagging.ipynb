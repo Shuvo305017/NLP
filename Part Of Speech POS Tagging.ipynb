{
 "cells": [
  {
   "cell_type": "code",
   "execution_count": 1,
   "id": "b081c5a3-24b3-497b-8eda-462fcb15d0ce",
   "metadata": {},
   "outputs": [],
   "source": [
    "import spacy"
   ]
  },
  {
   "cell_type": "code",
   "execution_count": 2,
   "id": "bc8de401-5e25-42f5-a028-1c45da8f2a55",
   "metadata": {},
   "outputs": [],
   "source": [
    "nlp = spacy.load(\"en_core_web_sm\")"
   ]
  },
  {
   "cell_type": "code",
   "execution_count": 8,
   "id": "4d4c312b-2ea6-496b-9b03-7fac2e948fc5",
   "metadata": {},
   "outputs": [
    {
     "data": {
      "text/plain": [
       "['tok2vec', 'tagger', 'parser', 'attribute_ruler', 'lemmatizer', 'ner']"
      ]
     },
     "execution_count": 8,
     "metadata": {},
     "output_type": "execute_result"
    }
   ],
   "source": [
    "nlp.pipe_names"
   ]
  },
  {
   "cell_type": "code",
   "execution_count": 12,
   "id": "7045bd6e-6b20-41e0-a4b7-c6c893ef1968",
   "metadata": {},
   "outputs": [
    {
     "name": "stdout",
     "output_type": "stream",
     "text": [
      "Elon | PROPN | proper noun | NNP noun, proper singular\n",
      "flew | VERB | verb | VBD verb, past tense\n",
      "to | ADP | adposition | IN conjunction, subordinating or preposition\n",
      "mars | NOUN | noun | NNS noun, plural\n",
      "yesterday | NOUN | noun | NN noun, singular or mass\n",
      ". | PUNCT | punctuation | . punctuation mark, sentence closer\n",
      "He | PRON | pronoun | PRP pronoun, personal\n",
      "carried | VERB | verb | VBD verb, past tense\n",
      "biryani | ADJ | adjective | JJ adjective (English), other noun-modifier (Chinese)\n",
      "masala | NOUN | noun | NN noun, singular or mass\n",
      "with | ADP | adposition | IN conjunction, subordinating or preposition\n",
      "him | PRON | pronoun | PRP pronoun, personal\n"
     ]
    }
   ],
   "source": [
    "doc = nlp(\"Elon flew to mars yesterday.He carried biryani masala with him\")\n",
    "for token in doc:\n",
    "    print(token,\"|\",token.pos_,\"|\",spacy.explain(token.pos_),\"|\",token.tag_,spacy.explain(token.tag_))"
   ]
  },
  {
   "cell_type": "code",
   "execution_count": 17,
   "id": "311e55c7-fce9-4ab5-a60a-48396762d14c",
   "metadata": {},
   "outputs": [
    {
     "name": "stdout",
     "output_type": "stream",
     "text": [
      "Wow |  INTJ |  interjection interjection |  UH |  interjection\n",
      "! |  PUNCT |  punctuation punctuation |  . |  punctuation mark, sentence closer\n",
      "Dr. |  PROPN |  proper noun proper noun |  NNP |  noun, proper singular\n",
      "Strange |  PROPN |  proper noun proper noun |  NNP |  noun, proper singular\n",
      "made |  VERB |  verb verb |  VBD |  verb, past tense\n",
      ", |  PUNCT |  punctuation punctuation |  , |  punctuation mark, comma\n",
      "265 |  NUM |  numeral numeral |  CD |  cardinal number\n",
      "millon |  NOUN |  noun noun |  NN |  noun, singular or mass\n",
      "$ |  SYM |  symbol symbol |  $ |  symbol, currency\n",
      "on |  ADP |  adposition adposition |  IN |  conjunction, subordinating or preposition\n",
      "very |  ADV |  adverb adverb |  RB |  adverb\n",
      "first |  ADJ |  adjective adjective |  JJ |  adjective (English), other noun-modifier (Chinese)\n",
      "day |  NOUN |  noun noun |  NN |  noun, singular or mass\n"
     ]
    }
   ],
   "source": [
    "doc = nlp(\"Wow! Dr. Strange made, 265 millon $ on very first day\")\n",
    "for token in doc:\n",
    "    print(token,\"| \",token.pos_,\"| \",spacy.explain(token.pos_),spacy.explain(token.pos_),\"| \",token.tag_ ,\"| \",spacy.explain(token.tag_))"
   ]
  },
  {
   "cell_type": "code",
   "execution_count": 22,
   "id": "21ef3876-75fa-4ccf-8809-73c41f030ab7",
   "metadata": {},
   "outputs": [
    {
     "name": "stdout",
     "output_type": "stream",
     "text": [
      "quits |  VBZ |  verb, 3rd person singular present\n"
     ]
    }
   ],
   "source": [
    "doc = nlp(\"he quits the job\")\n",
    "print(doc[1].text,\"| \",doc[1].tag_,\"| \",spacy.explain(doc[1].tag_))"
   ]
  },
  {
   "cell_type": "code",
   "execution_count": 23,
   "id": "9ff5eed3-a776-4a63-981a-18e7c7fa486a",
   "metadata": {},
   "outputs": [
    {
     "name": "stdout",
     "output_type": "stream",
     "text": [
      "quit |  VBD |  verb, past tense\n"
     ]
    }
   ],
   "source": [
    "doc = nlp(\"he quit the job\")\n",
    "print(doc[1].text,\"| \",doc[1].tag_,\"| \",spacy.explain(doc[1].tag_))"
   ]
  },
  {
   "cell_type": "code",
   "execution_count": 26,
   "id": "fa58bed9-1136-4054-adb0-d41a477855fa",
   "metadata": {},
   "outputs": [],
   "source": [
    "earnings_text=\"\"\"Microsoft Corp. today announced the following results for the quarter ended December 31, 2021, as compared to the corresponding period of last fiscal year:\n",
    "\n",
    "·         Revenue was $51.7 billion and increased 20%\n",
    "·         Operating income was $22.2 billion and increased 24%\n",
    "·         Net income was $18.8 billion and increased 21%\n",
    "·         Diluted earnings per share was $2.48 and increased 22%\n",
    "“Digital technology etc. is the most malleable resource at the world’s disposal to overcome constraints and reimagine everyday work and life,” said Satya Nadella, chairman and chief executive officer of Microsoft. “As tech as a percentage of global GDP continues to increase, we are innovating and investing across diverse and growing markets, with a common underlying technology stack and an operating model that reinforces a common strategy, culture, and sense of purpose.”\n",
    "“Solid commercial execution, represented by strong bookings growth driven by long-term Azure commitments, increased Microsoft Cloud revenue to $22.1 billion, up 32% year over year” said Amy Hood, executive vice president and chief financial officer of Microsoft.\"\"\"\n",
    "\n"
   ]
  },
  {
   "cell_type": "code",
   "execution_count": 27,
   "id": "30287762-6ad1-41e0-8b42-a401e0dfdac2",
   "metadata": {},
   "outputs": [],
   "source": [
    "doc = nlp(earnings_text)"
   ]
  },
  {
   "cell_type": "code",
   "execution_count": 31,
   "id": "91f59c4c-072b-4d50-8050-f1ce7e89ce5d",
   "metadata": {},
   "outputs": [
    {
     "name": "stdout",
     "output_type": "stream",
     "text": [
      "Microsoft  |  PROPN  |  proper noun\n",
      "Corp.  |  PROPN  |  proper noun\n",
      "today  |  NOUN  |  noun\n",
      "announced  |  VERB  |  verb\n",
      "the  |  DET  |  determiner\n",
      "following  |  VERB  |  verb\n",
      "results  |  NOUN  |  noun\n",
      "for  |  ADP  |  adposition\n",
      "the  |  DET  |  determiner\n",
      "quarter  |  NOUN  |  noun\n",
      "ended  |  VERB  |  verb\n",
      "December  |  PROPN  |  proper noun\n",
      "31  |  NUM  |  numeral\n",
      "2021  |  NUM  |  numeral\n",
      "as  |  SCONJ  |  subordinating conjunction\n",
      "compared  |  VERB  |  verb\n",
      "to  |  ADP  |  adposition\n",
      "the  |  DET  |  determiner\n",
      "corresponding  |  ADJ  |  adjective\n",
      "period  |  NOUN  |  noun\n",
      "of  |  ADP  |  adposition\n",
      "last  |  ADJ  |  adjective\n",
      "fiscal  |  ADJ  |  adjective\n",
      "year  |  NOUN  |  noun\n",
      "Revenue  |  PROPN  |  proper noun\n",
      "was  |  AUX  |  auxiliary\n",
      "$  |  SYM  |  symbol\n",
      "51.7  |  NUM  |  numeral\n",
      "billion  |  NUM  |  numeral\n",
      "and  |  CCONJ  |  coordinating conjunction\n",
      "increased  |  VERB  |  verb\n",
      "20  |  NUM  |  numeral\n",
      "%  |  NOUN  |  noun\n",
      "Operating  |  NOUN  |  noun\n",
      "income  |  NOUN  |  noun\n",
      "was  |  AUX  |  auxiliary\n",
      "$  |  SYM  |  symbol\n",
      "22.2  |  NUM  |  numeral\n",
      "billion  |  NUM  |  numeral\n",
      "and  |  CCONJ  |  coordinating conjunction\n",
      "increased  |  VERB  |  verb\n",
      "24  |  NUM  |  numeral\n",
      "%  |  NOUN  |  noun\n",
      "Net  |  ADJ  |  adjective\n",
      "income  |  NOUN  |  noun\n",
      "was  |  AUX  |  auxiliary\n",
      "$  |  SYM  |  symbol\n",
      "18.8  |  NUM  |  numeral\n",
      "billion  |  NUM  |  numeral\n",
      "and  |  CCONJ  |  coordinating conjunction\n",
      "increased  |  VERB  |  verb\n",
      "21  |  NUM  |  numeral\n",
      "%  |  NOUN  |  noun\n",
      "Diluted  |  VERB  |  verb\n",
      "earnings  |  NOUN  |  noun\n",
      "per  |  ADP  |  adposition\n",
      "share  |  NOUN  |  noun\n",
      "was  |  AUX  |  auxiliary\n",
      "$  |  SYM  |  symbol\n",
      "2.48  |  NUM  |  numeral\n",
      "and  |  CCONJ  |  coordinating conjunction\n",
      "increased  |  VERB  |  verb\n",
      "22  |  NUM  |  numeral\n",
      "%  |  NOUN  |  noun\n",
      "Digital  |  PROPN  |  proper noun\n",
      "technology  |  NOUN  |  noun\n",
      "is  |  AUX  |  auxiliary\n",
      "the  |  DET  |  determiner\n",
      "most  |  ADV  |  adverb\n",
      "malleable  |  ADJ  |  adjective\n",
      "resource  |  NOUN  |  noun\n",
      "at  |  ADP  |  adposition\n",
      "the  |  DET  |  determiner\n",
      "world  |  NOUN  |  noun\n",
      "’s  |  PART  |  particle\n",
      "disposal  |  NOUN  |  noun\n",
      "to  |  PART  |  particle\n",
      "overcome  |  VERB  |  verb\n",
      "constraints  |  NOUN  |  noun\n",
      "and  |  CCONJ  |  coordinating conjunction\n",
      "reimagine  |  VERB  |  verb\n",
      "everyday  |  ADJ  |  adjective\n",
      "work  |  NOUN  |  noun\n",
      "and  |  CCONJ  |  coordinating conjunction\n",
      "life  |  NOUN  |  noun\n",
      "said  |  VERB  |  verb\n",
      "Satya  |  PROPN  |  proper noun\n",
      "Nadella  |  PROPN  |  proper noun\n",
      "chairman  |  NOUN  |  noun\n",
      "and  |  CCONJ  |  coordinating conjunction\n",
      "chief  |  ADJ  |  adjective\n",
      "executive  |  ADJ  |  adjective\n",
      "officer  |  NOUN  |  noun\n",
      "of  |  ADP  |  adposition\n",
      "Microsoft  |  PROPN  |  proper noun\n",
      "As  |  ADV  |  adverb\n",
      "tech  |  ADJ  |  adjective\n",
      "as  |  ADP  |  adposition\n",
      "a  |  DET  |  determiner\n",
      "percentage  |  NOUN  |  noun\n",
      "of  |  ADP  |  adposition\n",
      "global  |  ADJ  |  adjective\n",
      "GDP  |  PROPN  |  proper noun\n",
      "continues  |  VERB  |  verb\n",
      "to  |  PART  |  particle\n",
      "increase  |  VERB  |  verb\n",
      "we  |  PRON  |  pronoun\n",
      "are  |  AUX  |  auxiliary\n",
      "innovating  |  VERB  |  verb\n",
      "and  |  CCONJ  |  coordinating conjunction\n",
      "investing  |  VERB  |  verb\n",
      "across  |  ADP  |  adposition\n",
      "diverse  |  ADJ  |  adjective\n",
      "and  |  CCONJ  |  coordinating conjunction\n",
      "growing  |  VERB  |  verb\n",
      "markets  |  NOUN  |  noun\n",
      "with  |  ADP  |  adposition\n",
      "a  |  DET  |  determiner\n",
      "common  |  ADJ  |  adjective\n",
      "underlying  |  VERB  |  verb\n",
      "technology  |  NOUN  |  noun\n",
      "stack  |  NOUN  |  noun\n",
      "and  |  CCONJ  |  coordinating conjunction\n",
      "an  |  DET  |  determiner\n",
      "operating  |  NOUN  |  noun\n",
      "model  |  NOUN  |  noun\n",
      "that  |  PRON  |  pronoun\n",
      "reinforces  |  VERB  |  verb\n",
      "a  |  DET  |  determiner\n",
      "common  |  ADJ  |  adjective\n",
      "strategy  |  NOUN  |  noun\n",
      "culture  |  NOUN  |  noun\n",
      "and  |  CCONJ  |  coordinating conjunction\n",
      "sense  |  NOUN  |  noun\n",
      "of  |  ADP  |  adposition\n",
      "purpose  |  NOUN  |  noun\n",
      "Solid  |  ADJ  |  adjective\n",
      "commercial  |  ADJ  |  adjective\n",
      "execution  |  NOUN  |  noun\n",
      "represented  |  VERB  |  verb\n",
      "by  |  ADP  |  adposition\n",
      "strong  |  ADJ  |  adjective\n",
      "bookings  |  NOUN  |  noun\n",
      "growth  |  NOUN  |  noun\n",
      "driven  |  VERB  |  verb\n",
      "by  |  ADP  |  adposition\n",
      "long  |  ADJ  |  adjective\n",
      "term  |  NOUN  |  noun\n",
      "Azure  |  PROPN  |  proper noun\n",
      "commitments  |  NOUN  |  noun\n",
      "increased  |  VERB  |  verb\n",
      "Microsoft  |  PROPN  |  proper noun\n",
      "Cloud  |  PROPN  |  proper noun\n",
      "revenue  |  NOUN  |  noun\n",
      "to  |  ADP  |  adposition\n",
      "$  |  SYM  |  symbol\n",
      "22.1  |  NUM  |  numeral\n",
      "billion  |  NUM  |  numeral\n",
      "up  |  ADV  |  adverb\n",
      "32  |  NUM  |  numeral\n",
      "%  |  NOUN  |  noun\n",
      "year  |  NOUN  |  noun\n",
      "over  |  ADP  |  adposition\n",
      "year  |  NOUN  |  noun\n",
      "said  |  VERB  |  verb\n",
      "Amy  |  PROPN  |  proper noun\n",
      "Hood  |  PROPN  |  proper noun\n",
      "executive  |  ADJ  |  adjective\n",
      "vice  |  NOUN  |  noun\n",
      "president  |  NOUN  |  noun\n",
      "and  |  CCONJ  |  coordinating conjunction\n",
      "chief  |  ADJ  |  adjective\n",
      "financial  |  ADJ  |  adjective\n",
      "officer  |  NOUN  |  noun\n",
      "of  |  ADP  |  adposition\n",
      "Microsoft  |  PROPN  |  proper noun\n"
     ]
    }
   ],
   "source": [
    "for token in doc:\n",
    "    if token.pos_ not in [\"SPACE\",\"PUNCT\",\"X\"]:\n",
    "        print(token,\" | \",token.pos_,\" | \",spacy.explain(token.pos_))\n",
    "    "
   ]
  },
  {
   "cell_type": "code",
   "execution_count": 33,
   "id": "530e4593-8102-4710-af07-4ce95db3b0b6",
   "metadata": {},
   "outputs": [],
   "source": [
    "doc = nlp(earnings_text)\n",
    "filtered_tokens = []\n",
    "for token in doc:\n",
    "     if token.pos_ not in [\"SPACE\",\"PUNCT\",\"X\"]:\n",
    "         filtered_tokens.append(token)\n",
    "         \n",
    "    "
   ]
  },
  {
   "cell_type": "code",
   "execution_count": 34,
   "id": "3ca7bcf0-a8a2-4337-8b3d-1c1378ad9b70",
   "metadata": {},
   "outputs": [
    {
     "data": {
      "text/plain": [
       "[Microsoft,\n",
       " Corp.,\n",
       " today,\n",
       " announced,\n",
       " the,\n",
       " following,\n",
       " results,\n",
       " for,\n",
       " the,\n",
       " quarter,\n",
       " ended,\n",
       " December,\n",
       " 31,\n",
       " 2021,\n",
       " as,\n",
       " compared,\n",
       " to,\n",
       " the,\n",
       " corresponding,\n",
       " period,\n",
       " of,\n",
       " last,\n",
       " fiscal,\n",
       " year,\n",
       " Revenue,\n",
       " was,\n",
       " $,\n",
       " 51.7,\n",
       " billion,\n",
       " and,\n",
       " increased,\n",
       " 20,\n",
       " %,\n",
       " Operating,\n",
       " income,\n",
       " was,\n",
       " $,\n",
       " 22.2,\n",
       " billion,\n",
       " and,\n",
       " increased,\n",
       " 24,\n",
       " %,\n",
       " Net,\n",
       " income,\n",
       " was,\n",
       " $,\n",
       " 18.8,\n",
       " billion,\n",
       " and,\n",
       " increased,\n",
       " 21,\n",
       " %,\n",
       " Diluted,\n",
       " earnings,\n",
       " per,\n",
       " share,\n",
       " was,\n",
       " $,\n",
       " 2.48,\n",
       " and,\n",
       " increased,\n",
       " 22,\n",
       " %,\n",
       " Digital,\n",
       " technology,\n",
       " is,\n",
       " the,\n",
       " most,\n",
       " malleable,\n",
       " resource,\n",
       " at,\n",
       " the,\n",
       " world,\n",
       " ’s,\n",
       " disposal,\n",
       " to,\n",
       " overcome,\n",
       " constraints,\n",
       " and,\n",
       " reimagine,\n",
       " everyday,\n",
       " work,\n",
       " and,\n",
       " life,\n",
       " said,\n",
       " Satya,\n",
       " Nadella,\n",
       " chairman,\n",
       " and,\n",
       " chief,\n",
       " executive,\n",
       " officer,\n",
       " of,\n",
       " Microsoft,\n",
       " As,\n",
       " tech,\n",
       " as,\n",
       " a,\n",
       " percentage,\n",
       " of,\n",
       " global,\n",
       " GDP,\n",
       " continues,\n",
       " to,\n",
       " increase,\n",
       " we,\n",
       " are,\n",
       " innovating,\n",
       " and,\n",
       " investing,\n",
       " across,\n",
       " diverse,\n",
       " and,\n",
       " growing,\n",
       " markets,\n",
       " with,\n",
       " a,\n",
       " common,\n",
       " underlying,\n",
       " technology,\n",
       " stack,\n",
       " and,\n",
       " an,\n",
       " operating,\n",
       " model,\n",
       " that,\n",
       " reinforces,\n",
       " a,\n",
       " common,\n",
       " strategy,\n",
       " culture,\n",
       " and,\n",
       " sense,\n",
       " of,\n",
       " purpose,\n",
       " Solid,\n",
       " commercial,\n",
       " execution,\n",
       " represented,\n",
       " by,\n",
       " strong,\n",
       " bookings,\n",
       " growth,\n",
       " driven,\n",
       " by,\n",
       " long,\n",
       " term,\n",
       " Azure,\n",
       " commitments,\n",
       " increased,\n",
       " Microsoft,\n",
       " Cloud,\n",
       " revenue,\n",
       " to,\n",
       " $,\n",
       " 22.1,\n",
       " billion,\n",
       " up,\n",
       " 32,\n",
       " %,\n",
       " year,\n",
       " over,\n",
       " year,\n",
       " said,\n",
       " Amy,\n",
       " Hood,\n",
       " executive,\n",
       " vice,\n",
       " president,\n",
       " and,\n",
       " chief,\n",
       " financial,\n",
       " officer,\n",
       " of,\n",
       " Microsoft]"
      ]
     },
     "execution_count": 34,
     "metadata": {},
     "output_type": "execute_result"
    }
   ],
   "source": [
    "filtered_tokens"
   ]
  },
  {
   "cell_type": "code",
   "execution_count": 39,
   "id": "4cdcb45e-ea9d-480f-b7d4-799f655c3516",
   "metadata": {},
   "outputs": [
    {
     "data": {
      "text/plain": [
       "{96: 15,\n",
       " 92: 45,\n",
       " 100: 23,\n",
       " 90: 9,\n",
       " 85: 16,\n",
       " 93: 16,\n",
       " 97: 27,\n",
       " 98: 1,\n",
       " 84: 20,\n",
       " 103: 10,\n",
       " 87: 6,\n",
       " 99: 5,\n",
       " 89: 12,\n",
       " 101: 2,\n",
       " 86: 3,\n",
       " 94: 3,\n",
       " 95: 2}"
      ]
     },
     "execution_count": 39,
     "metadata": {},
     "output_type": "execute_result"
    }
   ],
   "source": [
    "#The doc.count_by(spacy.attrs.POS) method counts the occurrences of each part-of-speech (POS) tag in the Doc object\n",
    "count = doc.count_by(spacy.attrs.POS)\n",
    "count"
   ]
  },
  {
   "cell_type": "code",
   "execution_count": 36,
   "id": "45c509c6-a919-4949-b544-9f2beb01ddba",
   "metadata": {},
   "outputs": [
    {
     "data": {
      "text/plain": [
       "'PROPN'"
      ]
     },
     "execution_count": 36,
     "metadata": {},
     "output_type": "execute_result"
    }
   ],
   "source": [
    "doc.vocab[96].text"
   ]
  },
  {
   "cell_type": "code",
   "execution_count": 40,
   "id": "858e5647-b613-4f07-b6c5-aecb7e8f6099",
   "metadata": {},
   "outputs": [
    {
     "name": "stdout",
     "output_type": "stream",
     "text": [
      "PROPN | 15\n",
      "NOUN | 45\n",
      "VERB | 23\n",
      "DET | 9\n",
      "ADP | 16\n",
      "NUM | 16\n",
      "PUNCT | 27\n",
      "SCONJ | 1\n",
      "ADJ | 20\n",
      "SPACE | 10\n",
      "AUX | 6\n",
      "SYM | 5\n",
      "CCONJ | 12\n",
      "X | 2\n",
      "ADV | 3\n",
      "PART | 3\n",
      "PRON | 2\n"
     ]
    }
   ],
   "source": [
    "#The doc.count_by(spacy.attrs.POS) method counts the occurrences of each part-of-speech (POS) tag in the Doc object\n",
    "for k,v in count.items():\n",
    "    print(doc.vocab[k].text,\"|\",v)\n"
   ]
  },
  {
   "cell_type": "code",
   "execution_count": 47,
   "id": "91ba06f2-395b-45a6-b31e-b66b54f9f2df",
   "metadata": {},
   "outputs": [
    {
     "name": "stdout",
     "output_type": "stream",
     "text": [
      "91: INTJ -> 1\n",
      "97: PUNCT -> 2\n",
      "96: PROPN -> 2\n",
      "100: VERB -> 1\n",
      "93: NUM -> 3\n",
      "85: ADP -> 1\n",
      "86: ADV -> 1\n",
      "84: ADJ -> 1\n",
      "92: NOUN -> 1\n"
     ]
    }
   ],
   "source": [
    "import spacy\n",
    "\n",
    "# Load SpaCy's English model\n",
    "nlp = spacy.load(\"en_core_web_sm\")\n",
    "\n",
    "# Process the text\n",
    "doc = nlp(\"Wow! Dr. Strange made, 265 million $ on very first day\")\n",
    "\n",
    "# Count POS tags\n",
    "count = doc.count_by(spacy.attrs.POS)\n",
    "\n",
    "# Display counts\n",
    "for pos_id, freq in count.items():\n",
    "    print(f\"{pos_id}: {doc.vocab[pos_id].text} -> {freq}\")\n"
   ]
  },
  {
   "cell_type": "code",
   "execution_count": null,
   "id": "5e7a3909-06b8-42bd-a179-5b22578a349c",
   "metadata": {},
   "outputs": [],
   "source": []
  }
 ],
 "metadata": {
  "kernelspec": {
   "display_name": "Python 3 (ipykernel)",
   "language": "python",
   "name": "python3"
  },
  "language_info": {
   "codemirror_mode": {
    "name": "ipython",
    "version": 3
   },
   "file_extension": ".py",
   "mimetype": "text/x-python",
   "name": "python",
   "nbconvert_exporter": "python",
   "pygments_lexer": "ipython3",
   "version": "3.12.3"
  }
 },
 "nbformat": 4,
 "nbformat_minor": 5
}
